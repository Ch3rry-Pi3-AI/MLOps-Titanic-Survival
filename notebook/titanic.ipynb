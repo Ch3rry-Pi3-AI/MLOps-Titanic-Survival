{
 "cells": [
  {
   "cell_type": "markdown",
   "id": "3bb0bbfb",
   "metadata": {},
   "source": [
    "# 🧭 **Titanic: EDA, Processing & Experimentation**\n",
    "\n",
    "### 🚀 **Setup**\n",
    "\n",
    "1. [Import Dependencies](#1-import-dependencies)\n",
    "2. [Set Input Directory](#2-set-input-directory)\n",
    "\n",
    "### 📥 **Data Loading & Quick Checks**\n",
    "\n",
    "3. [Load Training Data](#3-load-training-data)\n",
    "4. [Peek & Missing Values](#4-peek--missing-values)\n",
    "5. [Categorical Value Counts (Embarked)](#5-categorical-value-counts)\n",
    "\n",
    "### 🧹 **Preprocessing & Feature Engineering**\n",
    "\n",
    "6. [Impute & Encode](#6-impute--encode)\n",
    "7. [Derived Features](#7-derived-features)\n",
    "8. [Define X/y + Class Balance](#8-define-xy--class-balance)\n",
    "\n",
    "### ⚖️ **Resampling & Split**\n",
    "\n",
    "9. [SMOTE Oversampling](#9-smote-oversampling)\n",
    "10. [Train/Test Split](#10-traintest-split)\n",
    "\n",
    "### 🧠 **Modelling & Evaluation**\n",
    "\n",
    "11. [Random Forest + Randomised Search](#11-random-forest--randomised-search)\n",
    "12. [Evaluate Best Model](#12-evaluate-best-model)"
   ]
  },
  {
   "cell_type": "markdown",
   "id": "91ee66dd",
   "metadata": {},
   "source": [
    "## 🚀 **Setup**\n",
    "\n",
    "### 🧩 **1. Import Dependencies <a id=\"1-import-dependencies\"></a>**"
   ]
  },
  {
   "cell_type": "code",
   "execution_count": 1,
   "id": "7df3115d",
   "metadata": {},
   "outputs": [
    {
     "name": "stdout",
     "output_type": "stream",
     "text": [
      "✅ Imports loaded.\n"
     ]
    }
   ],
   "source": [
    "# -------------------------------------------------------------------\n",
    "# 📦 Core libraries\n",
    "# -------------------------------------------------------------------\n",
    "import os\n",
    "import sys\n",
    "import pandas as pd\n",
    "import numpy as np\n",
    "\n",
    "# -------------------------------------------------------------------\n",
    "# 🧮 Modelling & evaluation\n",
    "# -------------------------------------------------------------------\n",
    "from sklearn.model_selection import train_test_split, RandomizedSearchCV\n",
    "from sklearn.ensemble import RandomForestClassifier\n",
    "from sklearn.metrics import accuracy_score, classification_report, confusion_matrix\n",
    "\n",
    "# -------------------------------------------------------------------\n",
    "# ⚖️ Imbalance handling\n",
    "# -------------------------------------------------------------------\n",
    "from imblearn.over_sampling import SMOTE\n",
    "\n",
    "# -------------------------------------------------------------------\n",
    "# 📊 Optional display settings (nicer tables in notebooks)\n",
    "# -------------------------------------------------------------------\n",
    "pd.set_option(\"display.max_columns\", 100)\n",
    "pd.set_option(\"display.width\", 120)\n",
    "\n",
    "print(\"✅ Imports loaded.\")"
   ]
  },
  {
   "cell_type": "markdown",
   "id": "24381a2e",
   "metadata": {},
   "source": [
    "### 📁 **2. Set Input Directory <a id=\"2-set-input-directory\"></a>**"
   ]
  },
  {
   "cell_type": "code",
   "execution_count": 2,
   "id": "a5edb270",
   "metadata": {},
   "outputs": [
    {
     "name": "stdout",
     "output_type": "stream",
     "text": [
      "PROJECT_ROOT: c:\\Users\\HP\\OneDrive\\Documents\\Projects\\MLOps\\MLOps-Titanic-Survival\n",
      "DATA_PATH   : c:\\Users\\HP\\OneDrive\\Documents\\Projects\\MLOps\\MLOps-Titanic-Survival\\artifacts\\raw\\titanic_train.csv\n",
      "✅ File exists: True\n"
     ]
    }
   ],
   "source": [
    "# -------------------------------------------------------------------\n",
    "# 🗂️ Resolve project root safely in a notebook (simulate __file__ behavior)\n",
    "# -------------------------------------------------------------------\n",
    "# If this notebook lives in \"notebook/\", we go one level up to the repo root.\n",
    "PROJECT_ROOT = os.path.abspath(os.path.join(os.getcwd(), \"..\"))\n",
    "\n",
    "# -------------------------------------------------------------------\n",
    "# 📥 Path to training CSV inside artifacts/raw/\n",
    "# -------------------------------------------------------------------\n",
    "DATA_PATH = os.path.join(PROJECT_ROOT, \"artifacts\", \"raw\", \"titanic_train.csv\")\n",
    "\n",
    "# -------------------------------------------------------------------\n",
    "# 🧭 Sanity Check\n",
    "# -------------------------------------------------------------------\n",
    "print(\"PROJECT_ROOT:\", PROJECT_ROOT)\n",
    "print(\"DATA_PATH   :\", DATA_PATH)\n",
    "print(\"✅ File exists:\", os.path.exists(DATA_PATH))"
   ]
  },
  {
   "cell_type": "markdown",
   "id": "25b385d5",
   "metadata": {},
   "source": [
    "## 📥 **Data Loading & Quick Checks**\n",
    "\n",
    "### 🧾 **3. Load Training Data <a id=\"3-load-training-data\"></a>**"
   ]
  },
  {
   "cell_type": "code",
   "execution_count": 3,
   "id": "6246865a",
   "metadata": {},
   "outputs": [
    {
     "name": "stdout",
     "output_type": "stream",
     "text": [
      "✅ Loaded titanic dataset: 712 rows x 12 columns\n"
     ]
    }
   ],
   "source": [
    "# -------------------------------------------------------------------\n",
    "# 📥 Load the Titanic training dataset\n",
    "# -------------------------------------------------------------------\n",
    "titanic = pd.read_csv(DATA_PATH)\n",
    "\n",
    "# Quick shape check\n",
    "print(f\"✅ Loaded titanic dataset: {titanic.shape[0]:,} rows x {titanic.shape[1]} columns\")"
   ]
  },
  {
   "cell_type": "markdown",
   "id": "ee454fdb",
   "metadata": {},
   "source": [
    "### 👀 **4. Peek & Missing Values <a id=\"4-peek--missing-values\"></a>**"
   ]
  },
  {
   "cell_type": "code",
   "execution_count": 4,
   "id": "68fe67fa",
   "metadata": {},
   "outputs": [
    {
     "data": {
      "text/html": [
       "<div>\n",
       "<style scoped>\n",
       "    .dataframe tbody tr th:only-of-type {\n",
       "        vertical-align: middle;\n",
       "    }\n",
       "\n",
       "    .dataframe tbody tr th {\n",
       "        vertical-align: top;\n",
       "    }\n",
       "\n",
       "    .dataframe thead th {\n",
       "        text-align: right;\n",
       "    }\n",
       "</style>\n",
       "<table border=\"1\" class=\"dataframe\">\n",
       "  <thead>\n",
       "    <tr style=\"text-align: right;\">\n",
       "      <th></th>\n",
       "      <th>PassengerId</th>\n",
       "      <th>Survived</th>\n",
       "      <th>Pclass</th>\n",
       "      <th>Name</th>\n",
       "      <th>Sex</th>\n",
       "      <th>Age</th>\n",
       "      <th>SibSp</th>\n",
       "      <th>Parch</th>\n",
       "      <th>Ticket</th>\n",
       "      <th>Fare</th>\n",
       "      <th>Cabin</th>\n",
       "      <th>Embarked</th>\n",
       "    </tr>\n",
       "  </thead>\n",
       "  <tbody>\n",
       "    <tr>\n",
       "      <th>0</th>\n",
       "      <td>332</td>\n",
       "      <td>0</td>\n",
       "      <td>1</td>\n",
       "      <td>Partner, Mr. Austen</td>\n",
       "      <td>male</td>\n",
       "      <td>45.5</td>\n",
       "      <td>0</td>\n",
       "      <td>0</td>\n",
       "      <td>113043</td>\n",
       "      <td>28.5000</td>\n",
       "      <td>C124</td>\n",
       "      <td>S</td>\n",
       "    </tr>\n",
       "    <tr>\n",
       "      <th>1</th>\n",
       "      <td>734</td>\n",
       "      <td>0</td>\n",
       "      <td>2</td>\n",
       "      <td>Berriman, Mr. William John</td>\n",
       "      <td>male</td>\n",
       "      <td>23.0</td>\n",
       "      <td>0</td>\n",
       "      <td>0</td>\n",
       "      <td>28425</td>\n",
       "      <td>13.0000</td>\n",
       "      <td>NaN</td>\n",
       "      <td>S</td>\n",
       "    </tr>\n",
       "    <tr>\n",
       "      <th>2</th>\n",
       "      <td>383</td>\n",
       "      <td>0</td>\n",
       "      <td>3</td>\n",
       "      <td>Tikkanen, Mr. Juho</td>\n",
       "      <td>male</td>\n",
       "      <td>32.0</td>\n",
       "      <td>0</td>\n",
       "      <td>0</td>\n",
       "      <td>STON/O 2. 3101293</td>\n",
       "      <td>7.9250</td>\n",
       "      <td>NaN</td>\n",
       "      <td>S</td>\n",
       "    </tr>\n",
       "    <tr>\n",
       "      <th>3</th>\n",
       "      <td>705</td>\n",
       "      <td>0</td>\n",
       "      <td>3</td>\n",
       "      <td>Hansen, Mr. Henrik Juul</td>\n",
       "      <td>male</td>\n",
       "      <td>26.0</td>\n",
       "      <td>1</td>\n",
       "      <td>0</td>\n",
       "      <td>350025</td>\n",
       "      <td>7.8542</td>\n",
       "      <td>NaN</td>\n",
       "      <td>S</td>\n",
       "    </tr>\n",
       "    <tr>\n",
       "      <th>4</th>\n",
       "      <td>814</td>\n",
       "      <td>0</td>\n",
       "      <td>3</td>\n",
       "      <td>Andersson, Miss. Ebba Iris Alfrida</td>\n",
       "      <td>female</td>\n",
       "      <td>6.0</td>\n",
       "      <td>4</td>\n",
       "      <td>2</td>\n",
       "      <td>347082</td>\n",
       "      <td>31.2750</td>\n",
       "      <td>NaN</td>\n",
       "      <td>S</td>\n",
       "    </tr>\n",
       "  </tbody>\n",
       "</table>\n",
       "</div>"
      ],
      "text/plain": [
       "   PassengerId  Survived  Pclass                                Name     Sex   Age  SibSp  Parch             Ticket  \\\n",
       "0          332         0       1                 Partner, Mr. Austen    male  45.5      0      0             113043   \n",
       "1          734         0       2          Berriman, Mr. William John    male  23.0      0      0              28425   \n",
       "2          383         0       3                  Tikkanen, Mr. Juho    male  32.0      0      0  STON/O 2. 3101293   \n",
       "3          705         0       3             Hansen, Mr. Henrik Juul    male  26.0      1      0             350025   \n",
       "4          814         0       3  Andersson, Miss. Ebba Iris Alfrida  female   6.0      4      2             347082   \n",
       "\n",
       "      Fare Cabin Embarked  \n",
       "0  28.5000  C124        S  \n",
       "1  13.0000   NaN        S  \n",
       "2   7.9250   NaN        S  \n",
       "3   7.8542   NaN        S  \n",
       "4  31.2750   NaN        S  "
      ]
     },
     "metadata": {},
     "output_type": "display_data"
    },
    {
     "data": {
      "text/html": [
       "<div>\n",
       "<style scoped>\n",
       "    .dataframe tbody tr th:only-of-type {\n",
       "        vertical-align: middle;\n",
       "    }\n",
       "\n",
       "    .dataframe tbody tr th {\n",
       "        vertical-align: top;\n",
       "    }\n",
       "\n",
       "    .dataframe thead th {\n",
       "        text-align: right;\n",
       "    }\n",
       "</style>\n",
       "<table border=\"1\" class=\"dataframe\">\n",
       "  <thead>\n",
       "    <tr style=\"text-align: right;\">\n",
       "      <th></th>\n",
       "      <th>Cabin</th>\n",
       "      <th>Age</th>\n",
       "      <th>Embarked</th>\n",
       "      <th>PassengerId</th>\n",
       "      <th>Survived</th>\n",
       "      <th>Pclass</th>\n",
       "      <th>Name</th>\n",
       "      <th>Sex</th>\n",
       "      <th>SibSp</th>\n",
       "      <th>Parch</th>\n",
       "      <th>Ticket</th>\n",
       "      <th>Fare</th>\n",
       "    </tr>\n",
       "  </thead>\n",
       "  <tbody>\n",
       "    <tr>\n",
       "      <th>missing_count</th>\n",
       "      <td>553</td>\n",
       "      <td>140</td>\n",
       "      <td>2</td>\n",
       "      <td>0</td>\n",
       "      <td>0</td>\n",
       "      <td>0</td>\n",
       "      <td>0</td>\n",
       "      <td>0</td>\n",
       "      <td>0</td>\n",
       "      <td>0</td>\n",
       "      <td>0</td>\n",
       "      <td>0</td>\n",
       "    </tr>\n",
       "  </tbody>\n",
       "</table>\n",
       "</div>"
      ],
      "text/plain": [
       "               Cabin  Age  Embarked  PassengerId  Survived  Pclass  Name  Sex  SibSp  Parch  Ticket  Fare\n",
       "missing_count    553  140         2            0         0       0     0    0      0      0       0     0"
      ]
     },
     "metadata": {},
     "output_type": "display_data"
    }
   ],
   "source": [
    "# -------------------------------------------------------------------\n",
    "# 🧭 Quick peek at the head and missing values snapshot\n",
    "# -------------------------------------------------------------------\n",
    "display(titanic.head())\n",
    "display(titanic.isnull().sum().sort_values(ascending=False).to_frame(\"missing_count\").T)"
   ]
  },
  {
   "cell_type": "markdown",
   "id": "1d3f4bd9",
   "metadata": {},
   "source": [
    "### 🧮 **5. Categorical Value Counts (Embarked) <a id=\"5-categorical-value-counts\"></a>**"
   ]
  },
  {
   "cell_type": "code",
   "execution_count": 5,
   "id": "a898665c",
   "metadata": {},
   "outputs": [
    {
     "name": "stdout",
     "output_type": "stream",
     "text": [
      "Embarked value counts (before imputation):\n",
      "Embarked\n",
      "S      525\n",
      "C      125\n",
      "Q       60\n",
      "NaN      2\n",
      "Name: count, dtype: int64\n"
     ]
    }
   ],
   "source": [
    "# -------------------------------------------------------------------\n",
    "# 🧭 Inspect 'Embarked' distribution (pre-imputation)\n",
    "# -------------------------------------------------------------------\n",
    "print(\"Embarked value counts (before imputation):\")\n",
    "print(titanic[\"Embarked\"].value_counts(dropna=False))"
   ]
  },
  {
   "cell_type": "markdown",
   "id": "f3373a3c",
   "metadata": {},
   "source": [
    "### 🧼 **6. Impute & Encode <a id=\"6-impute--encode\"></a>**"
   ]
  },
  {
   "cell_type": "code",
   "execution_count": 6,
   "id": "70d84023",
   "metadata": {},
   "outputs": [
    {
     "name": "stdout",
     "output_type": "stream",
     "text": [
      "Embarked value counts (after imputation & encoding):\n",
      "Embarked\n",
      "2    527\n",
      "0    125\n",
      "1     60\n",
      "Name: count, dtype: int64\n"
     ]
    }
   ],
   "source": [
    "# -------------------------------------------------------------------\n",
    "# 🧼 Impute numeric and categorical features\n",
    "# -------------------------------------------------------------------\n",
    "# Fill Age with median\n",
    "titanic['Age'] = titanic['Age'].fillna(titanic['Age'].median())\n",
    "\n",
    "# Fill Embarked with mode\n",
    "titanic['Embarked'] = titanic['Embarked'].fillna(titanic['Embarked'].mode()[0])\n",
    "\n",
    "# Fill Fare with median\n",
    "titanic['Fare'] = titanic['Fare'].fillna(titanic['Fare'].median())\n",
    "\n",
    "# -------------------------------------------------------------------\n",
    "# 🔢 Encode categorical features\n",
    "# -------------------------------------------------------------------\n",
    "# Sex: male=0, female=1\n",
    "titanic['Sex'] = titanic['Sex'].map({'male': 0, 'female': 1})\n",
    "\n",
    "# Embarked as ordinal codes (C=0/S=1/Q=2 after category ordering; exact numbers not important for trees)\n",
    "titanic['Embarked'] = titanic['Embarked'].astype('category').cat.codes\n",
    "\n",
    "# Post-imputation check\n",
    "print(\"Embarked value counts (after imputation & encoding):\")\n",
    "print(titanic[\"Embarked\"].value_counts())"
   ]
  },
  {
   "cell_type": "markdown",
   "id": "fb09d0ab",
   "metadata": {},
   "source": [
    "### 🧩 **7. Derived Features <a id=\"7-derived-features\"></a>**"
   ]
  },
  {
   "cell_type": "code",
   "execution_count": 7,
   "id": "f401655d",
   "metadata": {},
   "outputs": [
    {
     "data": {
      "text/html": [
       "<div>\n",
       "<style scoped>\n",
       "    .dataframe tbody tr th:only-of-type {\n",
       "        vertical-align: middle;\n",
       "    }\n",
       "\n",
       "    .dataframe tbody tr th {\n",
       "        vertical-align: top;\n",
       "    }\n",
       "\n",
       "    .dataframe thead th {\n",
       "        text-align: right;\n",
       "    }\n",
       "</style>\n",
       "<table border=\"1\" class=\"dataframe\">\n",
       "  <thead>\n",
       "    <tr style=\"text-align: right;\">\n",
       "      <th></th>\n",
       "      <th>Survived</th>\n",
       "      <th>Pclass</th>\n",
       "      <th>Sex</th>\n",
       "      <th>Age</th>\n",
       "      <th>Fare</th>\n",
       "      <th>Embarked</th>\n",
       "      <th>Familysize</th>\n",
       "      <th>Isalone</th>\n",
       "      <th>HasCabin</th>\n",
       "      <th>Title</th>\n",
       "      <th>Pclass_Fare</th>\n",
       "      <th>Age_Fare</th>\n",
       "    </tr>\n",
       "  </thead>\n",
       "  <tbody>\n",
       "    <tr>\n",
       "      <th>0</th>\n",
       "      <td>0</td>\n",
       "      <td>1</td>\n",
       "      <td>0</td>\n",
       "      <td>45.5</td>\n",
       "      <td>28.500</td>\n",
       "      <td>2</td>\n",
       "      <td>1</td>\n",
       "      <td>1</td>\n",
       "      <td>1</td>\n",
       "      <td>0</td>\n",
       "      <td>28.500</td>\n",
       "      <td>1296.75</td>\n",
       "    </tr>\n",
       "    <tr>\n",
       "      <th>1</th>\n",
       "      <td>0</td>\n",
       "      <td>2</td>\n",
       "      <td>0</td>\n",
       "      <td>23.0</td>\n",
       "      <td>13.000</td>\n",
       "      <td>2</td>\n",
       "      <td>1</td>\n",
       "      <td>1</td>\n",
       "      <td>0</td>\n",
       "      <td>0</td>\n",
       "      <td>26.000</td>\n",
       "      <td>299.00</td>\n",
       "    </tr>\n",
       "    <tr>\n",
       "      <th>2</th>\n",
       "      <td>0</td>\n",
       "      <td>3</td>\n",
       "      <td>0</td>\n",
       "      <td>32.0</td>\n",
       "      <td>7.925</td>\n",
       "      <td>2</td>\n",
       "      <td>1</td>\n",
       "      <td>1</td>\n",
       "      <td>0</td>\n",
       "      <td>0</td>\n",
       "      <td>23.775</td>\n",
       "      <td>253.60</td>\n",
       "    </tr>\n",
       "  </tbody>\n",
       "</table>\n",
       "</div>"
      ],
      "text/plain": [
       "   Survived  Pclass  Sex   Age    Fare  Embarked  Familysize  Isalone  HasCabin  Title  Pclass_Fare  Age_Fare\n",
       "0         0       1    0  45.5  28.500         2           1        1         1      0       28.500   1296.75\n",
       "1         0       2    0  23.0  13.000         2           1        1         0      0       26.000    299.00\n",
       "2         0       3    0  32.0   7.925         2           1        1         0      0       23.775    253.60"
      ]
     },
     "metadata": {},
     "output_type": "display_data"
    }
   ],
   "source": [
    "# -------------------------------------------------------------------\n",
    "# 👨‍👩‍👧 Family-based features\n",
    "# -------------------------------------------------------------------\n",
    "titanic['Familysize'] = titanic['SibSp'] + titanic['Parch'] + 1\n",
    "titanic['Isalone'] = (titanic['Familysize'] == 1).astype(int)\n",
    "\n",
    "# -------------------------------------------------------------------\n",
    "# 🛳️ Cabin indicator (presence/absence)\n",
    "# -------------------------------------------------------------------\n",
    "titanic['HasCabin'] = titanic['Cabin'].notnull().astype(int)\n",
    "\n",
    "# -------------------------------------------------------------------\n",
    "# 🏷️ Title extraction (Mr/Miss/Mrs/Master/Rare)\n",
    "# -------------------------------------------------------------------\n",
    "title_map = {'Mr': 0, 'Miss': 1, 'Mrs': 2, 'Master': 3}\n",
    "titanic['Title'] = (\n",
    "    titanic['Name']\n",
    "    .str.extract(r' ([A-Za-z]+)\\.', expand=False)\n",
    "    .replace({\n",
    "        # Map less common honorifics to 'Rare'\n",
    "        'Mlle': 'Miss', 'Ms': 'Miss', 'Mme': 'Mrs',\n",
    "        'Lady': 'Rare', 'Countess': 'Rare', 'Sir': 'Rare',\n",
    "        'Jonkheer': 'Rare', 'Don': 'Rare', 'Dona': 'Rare',\n",
    "        'Col': 'Rare', 'Major': 'Rare', 'Capt': 'Rare',\n",
    "        'Dr': 'Rare', 'Rev': 'Rare'\n",
    "    })\n",
    "    .map({**title_map, 'Rare': 4})\n",
    "    .fillna(4)  # Unknown → Rare\n",
    "    .astype(int)\n",
    ")\n",
    "\n",
    "# -------------------------------------------------------------------\n",
    "# ➗ Simple interaction features (often useful for trees)\n",
    "# -------------------------------------------------------------------\n",
    "titanic['Pclass_Fare'] = titanic['Pclass'] * titanic['Fare']\n",
    "titanic['Age_Fare'] = titanic['Age'] * titanic['Fare']\n",
    "\n",
    "# Preview engineered columns\n",
    "display(titanic[['Survived','Pclass','Sex','Age','Fare','Embarked',\n",
    "                 'Familysize','Isalone','HasCabin','Title','Pclass_Fare','Age_Fare']].head(3))"
   ]
  },
  {
   "cell_type": "markdown",
   "id": "9a458457",
   "metadata": {},
   "source": [
    "### 🎯 **8. Define X/y + Class Balance <a id=\"8-define-xy--class-balance\"></a>**"
   ]
  },
  {
   "cell_type": "code",
   "execution_count": 8,
   "id": "175256b5",
   "metadata": {},
   "outputs": [
    {
     "name": "stdout",
     "output_type": "stream",
     "text": [
      "X shape: (712, 11) | y shape: (712,)\n",
      "\n",
      "Class balance (original):\n",
      "Survived\n",
      "Not Survived    444\n",
      "Survived        268\n",
      "Name: count, dtype: int64\n"
     ]
    }
   ],
   "source": [
    "# -------------------------------------------------------------------\n",
    "# 🎯 Feature matrix (X) and target vector (y)\n",
    "# -------------------------------------------------------------------\n",
    "FEATURES = [\n",
    "    'Pclass', 'Sex', 'Age', 'Fare', 'Embarked',\n",
    "    'Familysize', 'Isalone', 'HasCabin', 'Title',\n",
    "    'Pclass_Fare', 'Age_Fare'\n",
    "]\n",
    "X = titanic[FEATURES].copy()\n",
    "y = titanic['Survived'].astype(int).copy()\n",
    "\n",
    "print(\"X shape:\", X.shape, \"| y shape:\", y.shape)\n",
    "print(\"\\nClass balance (original):\")\n",
    "print(y.value_counts().rename({0: \"Not Survived\", 1: \"Survived\"}))"
   ]
  },
  {
   "cell_type": "markdown",
   "id": "45a4d07b",
   "metadata": {},
   "source": [
    "## ⚖️ **Resampling & Split**\n",
    "\n",
    "### 🧪 **9. SMOTE Oversampling <a id=\"9-smote-oversampling\"></a>**"
   ]
  },
  {
   "cell_type": "code",
   "execution_count": 9,
   "id": "1f0729c1",
   "metadata": {},
   "outputs": [
    {
     "name": "stdout",
     "output_type": "stream",
     "text": [
      "After SMOTE:\n",
      "Survived\n",
      "Not Survived    444\n",
      "Survived        444\n",
      "Name: count, dtype: int64\n",
      "X_resampled shape: (888, 11) | y_resampled shape: (888,)\n"
     ]
    }
   ],
   "source": [
    "# -------------------------------------------------------------------\n",
    "# ⚖️ Balance classes using SMOTE (on training data usually; here applied pre-split per your original flow)\n",
    "# -------------------------------------------------------------------\n",
    "smote = SMOTE(random_state=42)\n",
    "X_resampled, y_resampled = smote.fit_resample(X, y)\n",
    "\n",
    "print(\"After SMOTE:\")\n",
    "print(pd.Series(y_resampled).value_counts().rename({0: \"Not Survived\", 1: \"Survived\"}))\n",
    "print(\"X_resampled shape:\", X_resampled.shape, \"| y_resampled shape:\", y_resampled.shape)"
   ]
  },
  {
   "cell_type": "markdown",
   "id": "1783cf41",
   "metadata": {},
   "source": [
    "### ✂️ **10. Train/Test Split <a id=\"10-traintest-split\"></a>**"
   ]
  },
  {
   "cell_type": "code",
   "execution_count": 10,
   "id": "f5530362",
   "metadata": {},
   "outputs": [
    {
     "name": "stdout",
     "output_type": "stream",
     "text": [
      "Train shapes: (710, 11) (710,)\n",
      "Test  shapes: (178, 11) (178,)\n"
     ]
    }
   ],
   "source": [
    "# -------------------------------------------------------------------\n",
    "# ✂️ Hold-out split for evaluation\n",
    "# -------------------------------------------------------------------\n",
    "\n",
    "X_train, X_test, y_train, y_test = train_test_split(\n",
    "    X_resampled, y_resampled,\n",
    "    test_size=0.20,\n",
    "    random_state=42,\n",
    "    stratify=y_resampled\n",
    ")\n",
    "\n",
    "print(\"Train shapes:\", X_train.shape, y_train.shape)\n",
    "print(\"Test  shapes:\", X_test.shape,  y_test.shape)"
   ]
  },
  {
   "cell_type": "markdown",
   "id": "5de1e824",
   "metadata": {},
   "source": [
    "## 🧠 **Modelling & Evaluation**\n",
    "### 🌲 **11. Random Forest + Randomised Search <a id=\"11-random-forest--randomised-search\"></a>**"
   ]
  },
  {
   "cell_type": "code",
   "execution_count": 11,
   "id": "e277238e",
   "metadata": {},
   "outputs": [
    {
     "name": "stdout",
     "output_type": "stream",
     "text": [
      "✅ Best Params: {'n_estimators': 300, 'min_samples_split': 5, 'min_samples_leaf': 2, 'max_depth': 30}\n"
     ]
    }
   ],
   "source": [
    "# -------------------------------------------------------------------\n",
    "# 🌲 Random Forest with a compact RandomizedSearchCV\n",
    "# -------------------------------------------------------------------\n",
    "param_distributions = {\n",
    "    'n_estimators': [100, 200, 300],\n",
    "    'max_depth': [10, 20, 30],\n",
    "    'min_samples_split': [2, 5],\n",
    "    'min_samples_leaf': [1, 2]\n",
    "}\n",
    "\n",
    "rf = RandomForestClassifier(random_state=42, n_jobs=-1)\n",
    "\n",
    "random_search = RandomizedSearchCV(\n",
    "    estimator=rf,\n",
    "    param_distributions=param_distributions,\n",
    "    n_iter=10,\n",
    "    cv=3,\n",
    "    scoring='accuracy',\n",
    "    random_state=42,\n",
    "    n_jobs=-1,\n",
    "    verbose=0\n",
    ")\n",
    "\n",
    "random_search.fit(X_train, y_train)\n",
    "\n",
    "best_rf = random_search.best_estimator_\n",
    "print(\"✅ Best Params:\", random_search.best_params_)"
   ]
  },
  {
   "cell_type": "markdown",
   "id": "9437f667",
   "metadata": {},
   "source": [
    "### 📈 **12. Evaluate Best Model <a id=\"12-evaluate-best-model\"></a>**"
   ]
  },
  {
   "cell_type": "code",
   "execution_count": 12,
   "id": "eb134351",
   "metadata": {},
   "outputs": [
    {
     "name": "stdout",
     "output_type": "stream",
     "text": [
      "🎯 Random Forest Accuracy: 0.865\n",
      "\n",
      "Classification Report:\n",
      "              precision    recall  f1-score   support\n",
      "\n",
      "           0      0.822     0.933     0.874        89\n",
      "           1      0.922     0.798     0.855        89\n",
      "\n",
      "    accuracy                          0.865       178\n",
      "   macro avg      0.872     0.865     0.865       178\n",
      "weighted avg      0.872     0.865     0.865       178\n",
      "\n",
      "Confusion Matrix:\n",
      "[[83  6]\n",
      " [18 71]]\n"
     ]
    },
    {
     "data": {
      "text/html": [
       "<div>\n",
       "<style scoped>\n",
       "    .dataframe tbody tr th:only-of-type {\n",
       "        vertical-align: middle;\n",
       "    }\n",
       "\n",
       "    .dataframe tbody tr th {\n",
       "        vertical-align: top;\n",
       "    }\n",
       "\n",
       "    .dataframe thead th {\n",
       "        text-align: right;\n",
       "    }\n",
       "</style>\n",
       "<table border=\"1\" class=\"dataframe\">\n",
       "  <thead>\n",
       "    <tr style=\"text-align: right;\">\n",
       "      <th></th>\n",
       "      <th>Title</th>\n",
       "      <th>Age_Fare</th>\n",
       "      <th>Fare</th>\n",
       "      <th>Sex</th>\n",
       "      <th>Pclass_Fare</th>\n",
       "      <th>Age</th>\n",
       "      <th>Pclass</th>\n",
       "      <th>Familysize</th>\n",
       "      <th>Embarked</th>\n",
       "      <th>Isalone</th>\n",
       "      <th>HasCabin</th>\n",
       "    </tr>\n",
       "  </thead>\n",
       "  <tbody>\n",
       "    <tr>\n",
       "      <th>importance</th>\n",
       "      <td>0.199293</td>\n",
       "      <td>0.126601</td>\n",
       "      <td>0.125866</td>\n",
       "      <td>0.121126</td>\n",
       "      <td>0.114641</td>\n",
       "      <td>0.099181</td>\n",
       "      <td>0.0806</td>\n",
       "      <td>0.053799</td>\n",
       "      <td>0.039968</td>\n",
       "      <td>0.024753</td>\n",
       "      <td>0.014171</td>\n",
       "    </tr>\n",
       "  </tbody>\n",
       "</table>\n",
       "</div>"
      ],
      "text/plain": [
       "               Title  Age_Fare      Fare       Sex  Pclass_Fare       Age  Pclass  Familysize  Embarked   Isalone  \\\n",
       "importance  0.199293  0.126601  0.125866  0.121126     0.114641  0.099181  0.0806    0.053799  0.039968  0.024753   \n",
       "\n",
       "            HasCabin  \n",
       "importance  0.014171  "
      ]
     },
     "metadata": {},
     "output_type": "display_data"
    }
   ],
   "source": [
    "# -------------------------------------------------------------------\n",
    "# 📈 Predict, score, and print simple diagnostics\n",
    "# -------------------------------------------------------------------\n",
    "y_pred = best_rf.predict(X_test)\n",
    "rf_accuracy = accuracy_score(y_test, y_pred)\n",
    "\n",
    "print(f\"🎯 Random Forest Accuracy: {rf_accuracy:.3f}\\n\")\n",
    "\n",
    "print(\"Classification Report:\")\n",
    "print(classification_report(y_test, y_pred, digits=3))\n",
    "\n",
    "print(\"Confusion Matrix:\")\n",
    "print(confusion_matrix(y_test, y_pred))\n",
    "\n",
    "# Optional: top feature importances (quick look)\n",
    "fi = pd.Series(best_rf.feature_importances_, index=FEATURES).sort_values(ascending=False)\n",
    "display(fi.to_frame(\"importance\").T)"
   ]
  }
 ],
 "metadata": {
  "kernelspec": {
   "display_name": "MLOps-Titanic-Survival",
   "language": "python",
   "name": "python3"
  },
  "language_info": {
   "codemirror_mode": {
    "name": "ipython",
    "version": 3
   },
   "file_extension": ".py",
   "mimetype": "text/x-python",
   "name": "python",
   "nbconvert_exporter": "python",
   "pygments_lexer": "ipython3",
   "version": "3.12.11"
  }
 },
 "nbformat": 4,
 "nbformat_minor": 5
}
